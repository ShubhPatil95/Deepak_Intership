{
 "cells": [
  {
   "cell_type": "markdown",
   "id": "958be032",
   "metadata": {},
   "source": [
    "## https://github.com/nawaz-kmr/Data_Extraction_and_Text_Analysis_for_Blackcoffer_company./blob/main/Data_Extraction_and_Text_Analysis_for_Blackcoffer_company.ipynb"
   ]
  },
  {
   "cell_type": "code",
   "execution_count": 1,
   "id": "afa926cf",
   "metadata": {},
   "outputs": [],
   "source": [
    "#import necessary pacakages\n",
    "import requests\n",
    "from bs4 import BeautifulSoup\n",
    "import pandas as pd\n",
    "import os"
   ]
  },
  {
   "cell_type": "code",
   "execution_count": 46,
   "id": "21285e65",
   "metadata": {},
   "outputs": [
    {
     "data": {
      "text/html": [
       "<div>\n",
       "<style scoped>\n",
       "    .dataframe tbody tr th:only-of-type {\n",
       "        vertical-align: middle;\n",
       "    }\n",
       "\n",
       "    .dataframe tbody tr th {\n",
       "        vertical-align: top;\n",
       "    }\n",
       "\n",
       "    .dataframe thead th {\n",
       "        text-align: right;\n",
       "    }\n",
       "</style>\n",
       "<table border=\"1\" class=\"dataframe\">\n",
       "  <thead>\n",
       "    <tr style=\"text-align: right;\">\n",
       "      <th></th>\n",
       "      <th>URL_ID</th>\n",
       "      <th>URL</th>\n",
       "    </tr>\n",
       "  </thead>\n",
       "  <tbody>\n",
       "    <tr>\n",
       "      <th>0</th>\n",
       "      <td>37</td>\n",
       "      <td>https://insights.blackcoffer.com/ai-in-healthc...</td>\n",
       "    </tr>\n",
       "    <tr>\n",
       "      <th>1</th>\n",
       "      <td>38</td>\n",
       "      <td>https://insights.blackcoffer.com/what-if-the-c...</td>\n",
       "    </tr>\n",
       "  </tbody>\n",
       "</table>\n",
       "</div>"
      ],
      "text/plain": [
       "   URL_ID                                                URL\n",
       "0      37  https://insights.blackcoffer.com/ai-in-healthc...\n",
       "1      38  https://insights.blackcoffer.com/what-if-the-c..."
      ]
     },
     "execution_count": 46,
     "metadata": {},
     "output_type": "execute_result"
    }
   ],
   "source": [
    "df = pd.read_excel(\"Input.xlsx\")\n",
    "df.head()"
   ]
  },
  {
   "cell_type": "code",
   "execution_count": 47,
   "id": "e7c00e42",
   "metadata": {},
   "outputs": [
    {
     "name": "stdout",
     "output_type": "stream",
     "text": [
      "Working on URL_ID37\n",
      "Working on URL_ID38\n"
     ]
    }
   ],
   "source": [
    "for index, row in df.iterrows():\n",
    "    url = row[\"URL\"]\n",
    "    url_id = row[\"URL_ID\"]\n",
    "    print(f\"Working on URL_ID{url_id}\")\n",
    "    header = {'User-Agent': \"Mozilla/5.0 (Windows NT 10.0; Win64; x64) AppleWebKit/537.36 (KHTML, like Gecko) Chrome/108.0.0.0 Safari/537.36\"}\n",
    "    try:\n",
    "        response = requests.get(url,headers=header)\n",
    "    except:\n",
    "        print(\"can't get response of {}\".format(url_id))\n",
    "        \n",
    "    try:\n",
    "        soup = BeautifulSoup(response.content,\"html.parser\")\n",
    "    except:\n",
    "        print(\"can't get page of {}\".format(url_id))\n",
    "    \n",
    "    try:\n",
    "        title = soup.find(\"h1\").get_text()\n",
    "    except:\n",
    "        print(\"can't get title of {}\".format(url_id))\n",
    "\n",
    "    try:    \n",
    "        article =\"\"\n",
    "        for p in soup.find_all('p'):\n",
    "            article = article+p.get_text()\n",
    "    except:\n",
    "        print(\"can't get text of {}\".format(url_id))\n",
    "    \n",
    "    folder_path = \" \"\n",
    "    \n",
    "    with open(f\"{folder_path}/{url_id}.txt\",\"w\") as file:\n",
    "        file.write(title+\"\\n\"+article)"
   ]
  }
 ],
 "metadata": {
  "kernelspec": {
   "display_name": "Python 3 (ipykernel)",
   "language": "python",
   "name": "python3"
  },
  "language_info": {
   "codemirror_mode": {
    "name": "ipython",
    "version": 3
   },
   "file_extension": ".py",
   "mimetype": "text/x-python",
   "name": "python",
   "nbconvert_exporter": "python",
   "pygments_lexer": "ipython3",
   "version": "3.9.13"
  }
 },
 "nbformat": 4,
 "nbformat_minor": 5
}
